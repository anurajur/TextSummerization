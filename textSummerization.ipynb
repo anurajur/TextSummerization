{
 "cells": [
  {
   "cell_type": "code",
   "execution_count": 8,
   "metadata": {},
   "outputs": [],
   "source": [
    "import spacy\n",
    "import pandas as pd\n",
    "from spacy.lang.en.stop_words import STOP_WORDS\n",
    "#from string import punctuation\n",
    "from heapq import nlargest"
   ]
  },
  {
   "cell_type": "code",
   "execution_count": 9,
   "metadata": {},
   "outputs": [],
   "source": [
    "document1 = \"\"\"Acnesol Gel is an antibiotic that fights bacteria. It is used to treat acne, which appears as spots or pimples on your face, chest or back. This medicine works by attacking the bacteria that cause these pimples.Acnesol Gel is only meant for external use and should be used as advised by your doctor. You should normally wash and dry the affected area before applying a thin layer of the medicine. It should not be applied to broken or damaged skin. Avoid any contact with your eyes, nose, or mouth. Rinse it off with water if you accidentally get it in these areas. It may take several weeks for your symptoms to improve, but you should keep using this medicine regularly. Do not stop using it as soon as your acne starts to get better. Ask your doctor when you should stop treatment.Common side effects like minor itching, burning, or redness of the skin and oily skin may be seen in some people. These are usually temporary and resolve on their own. Consult your doctor if they bother you or do not go away.It is a safe medicine, but you should inform your doctor if you have any problems with your bowels (intestines). Also, inform the doctor if you have ever had bloody diarrhea caused by taking antibiotics or if you are using any other medicines to treat skin conditions. Consult your doctor about using this medicine if you are pregnant or breastfeeding.\"\"\"\n",
    "document2 = \"\"\"Ambrodil Syrup is used for treating various respiratory tract disorders associated with excessive mucus. It works by thinning and loosens mucus in the nose, windpipe and lungs and make it easier to cough out.Ambrodil Syrup should be taken with food. For better results, it is suggested to take it at the same time every day.  The dose and how often you take it depends on what you are taking it for. Your doctor will decide how much you need to improve your symptoms.  It is advised not to use it for more than 14 days without doctor consultation.The most common side effects of this medicine include vomiting, nausea, and stomach upset. Talk to your doctor if you are worried about side effects or they would not go away. Generally, it is advised not to take alcohol while on treatment.Before taking this medicine, tell your doctor if you have liver or kidney disease or if you have stomach problems. Your doctor should also know about all other medicines you are taking as many of these may make this medicine less effective or change the way it works. You must take doctor's advice before using this medicine if you are pregnant or breastfeeding.\"\"\"\n",
    "document3 = \"\"\"Azithral 500 Tablet is an antibiotic used to treat various types of bacterial infections of the respiratory tract, ear, nose, throat, lungs, skin, and eye in adults and children. It is also effective in typhoid fever and some sexually transmitted diseases like gonorrhea.Azithral 500 Tablet is a broad-spectrum type of antibiotic effective in killing many types of gram-positive bacteria, some types of gram-negative bacteria and other microorganisms. This medicine is taken orally, preferably either one hour before or 2 hours after a meal. It should be used regularly at evenly spaced time intervals as prescribed by your doctor. Do not skip any doses and finish the full course of treatment even if you feel better. Stopping the medicine too early may lead to the return or worsening of the infection.Commonly seen side effects seen with this medicine include vomiting, nausea, stomach pain, and diarrhea. These are usually temporary and subside with the completion of treatment. Consult your doctor if you find these side effects worry you or persist for a longer duration.Inform your doctor if you have any previous history of allergy or heart problems before taking this medicine. Pregnant or breastfeeding women should consult their doctor before using this medicine.\"\"\"\n",
    "document4 = \"\"\"Alkasol Oral Solution is a medicine used in the treatment of gout and kidney stones. It stops the production of uric acid in the body and reduces the episodes of gout attack and prevent kidney stones.Alkasol Oral Solution can be taken with or without food. This will prevent you from getting an upset stomach. Take it regularly and do not stop taking the medicine even if you get better until that doctor tell you it is alright to stop.The most common side effect of this medicine is stomach pain. It may also cause diarrhea, excessive production of urine, tiredness, etc. If any of these side effects does not resolve with time or get worsen, you should let your doctor know. Your doctor may help with ways to reduce or prevent these symptoms by reducing the dose or prescribing an alternative medicine.To make sure the medicine is safe for you, before taking this medicine, let your doctor know all the other medicines you are taking. Also tell your doctor if you have any problems with your heart, kidneys, or liver. If you are pregnant or breastfeeding, consult your doctor first before taking this medicine.\"\"\"\n",
    "document5 = \"\"\"Atarax 25mg Tablet is an antihistamine used to treat symptoms of skin allergy like itching, swelling, and rashes. It is also used to treat anxiety and helps to get relaxed before or after surgery.Atarax 25mg Tablet should be taken with or without food, but take it at the same time every day to get the most benefit.  It should be taken as your doctor's advice. The dose and how often you take it depends on what you are taking it for. Your doctor will decide how much you need to improve your symptoms.  You should take this medicine for as long as it is prescribed for you. In case, you have missed any doses than it is better to take the next dose as soon as you remember it. However, you should never take a double dose.The most common side effects of this medicine include sedation, nausea, vomiting, stomach upset and constipation.  If these bother you or appear serious, let your doctor know. There may be ways of reducing or preventing them. You must avoid driving or attention-seeking activity while on treatment.Before taking this medicine, let your doctor know if you have heart problems or have high blood pressure, have liver or kidney problems. Inform your doctor if you are pregnant, or breastfeeding. Your doctor should also know about all other medicines you are taking as many of these may make this medicine less effective or change the way it works. Generally, it is advised to avoid alcohol while on treatment.\"\"\"\n",
    "document6 = \"\"\"Altraday Capsule SR is a combination of two medicines. It is used to reduce pain and inflammation in conditions like rheumatoid arthritis, ankylosing spondylitis, and osteoarthritis. It may also be used to relieve muscle pain, back pain, toothache, or pain in the ear and throat.Altraday Capsule SR can be taken with or without food. The dose will depend on what you are taking it for and how well it helps your symptoms. You should take it as advised by your doctor. Do not take more or use it for a longer duration than recommended by the doctor.The most common side effects of this medicine include nausea, flatulence, indigestion, diarrhea, and constipation. If any of these side effects bother you or get worse, you should speak to your doctor. Your doctor may be able to suggest ways of preventing or reducing the side effects.Before taking it, you should let your doctor know if you have a history of ulcer or bleeding in your stomach, high blood pressure, or have any trouble with your heart, kidneys, or liver. Let your doctor also know about all the other medicines you are taking because they may affect, or be affected by, this medicine.Pregnant or breastfeeding women should consult their doctor before starting treatment. You should also avoid drinking alcohol while you are taking this medicine, as alcohol can cause excessive drowsiness.\"\"\"\n",
    "document7 = \"\"\"Anovate Cream is a combination medicine used for the treatment of piles (hemorrhoids). It relieves the pain, swelling, itching and discomfort associated with passing of stools in people who suffer this problem in the anal area.Anovate Cream must be used as per doctor's prescription. It is for external use only. Before using the medicine check the label for directions of use and apply gently on the clean and dry affected area. You should always wash your hands after applying it. Avoid getting it into your eyes or mouth. If accidental exposure occurs, rinse thoroughly with water.There are no major side effects associated with this medicine but can cause application site burning or irritation. Do not use this medicine if you are allergic to it.\"\"\"\n",
    "document8 = \"\"\"Ambrodil-S Syrup is a combination medicine used in the treatment of cough. It thins mucus in the nose, windpipe and lungs making it easier to cough out. It also relaxes the muscles in your airway. Together, they make breathing easier.Ambrodil-S Syrup is taken with or without food in a dose and duration as advised by the doctor. The dose you are given will depend on your condition and how you respond to the medicine. You should keep taking this medicine for as long as your doctor recommends. If you stop treatment too early your symptoms may come back and your condition may worsen. Let your healthcare team know about all other medications you are taking as some may affect, or be affected by this medicine.The most common side effects are headache, palpitations, stomach upset, tremor, muscle cramp, and Increased heart rate. Most of these are temporary and usually resolve with time. Contact your doctor straight away if you are at all concerned about any of these side effects. This medicine can also cause dizziness and sleepiness, so do not drive or do anything that requires mental focus until you know how this medicine affects you. Avoid drinking alcohol while taking this medicine as it can worsen your sleepiness.Never support self-medication or recommend your medicine to another person. Keep it out of reach of children. It is beneficial to have plenty of fluids while taking this medication. Before taking it, you should tell your doctor if you have any liver or kidney diseases so that your doctor can prescribe a suitable dose for you. Pregnant or breastfeeding women should consult their doctor before taking this medicine.\"\"\"\n",
    "document9 = \"\"\"Allegra-M Tablet is a combination medicine used in the treatment of allergy symptoms such as runny nose, stuffy nose, sneezing, watery eyes and congestion or stuffiness.Allegra-M Tablet is taken with or without food in a dose and duration as advised by the doctor. The dose you are given will depend on your condition and how you respond to the medicine. You should keep taking this medicine for as long as your doctor recommends. If you stop treatment too early your symptoms may come back and your condition may worsen. Let your healthcare team know about all other medications you are taking as some may affect, or be affected by this medicine.The most common side effects are nausea, diarrhea, vomiting, skin rash, flu-like symptoms, and headache. Most of these are temporary and usually resolve with time. Contact your doctor straight away if you are at all concerned about any of these side effects. This medicine may cause dizziness and sleepiness, so do not drive or do anything that requires mental focus until you know how this medicine affects you. Avoid drinking alcohol while taking this medicine as it can worsen your sleepiness.Never support self-medication or recommend your medicine to another person. It is beneficial to have plenty of fluids while taking this medication. Before you start taking this medicine it is important to inform your doctor if you are suffering from liver or kidney disease. You should also tell your doctor if you are pregnant, planning pregnancy or breastfeeding.\"\"\"\n",
    "document10 = \"\"\"Ascoril D Plus Syrup Sugar Free is a combination medicine used in the treatment of dry cough. It relieves allergic symptoms such as sneezing, runny nose, watery eyes, and throat irritation. It also provides relief from congestion or stuffiness in the nose.Ascoril D Plus Syrup Sugar Free is taken with or without food in a dose and duration as advised by the doctor. The dose you are given will depend on your condition and how you respond to the medicine. You should keep taking this medicine for as long as your doctor recommends. If you stop treatment too early your symptoms may come back and your condition may worsen. Let your healthcare team know about all other medications you are taking as some may affect, or be affected by this medicine.The most common side effects are nausea, vomiting, loss of appetite, and headache. Most of these are temporary and usually resolve with time. Contact your doctor straight away if you are at all concerned about any of these side effects. This medicine can also cause sleepiness, so do not drive or do anything that requires mental focus until you know how this medicine affects you. Avoid drinking alcohol while taking this medicine as it can worsen your sleepiness.Never support self-medication or recommend your medicine to another person. It is beneficial to have plenty of fluids while taking this medication. Before taking this medicine, you should tell your doctor if you are pregnant, planning pregnancy or breastfeeding. You should also tell your doctor if you have any kidney or liver diseases so that your doctor can prescribe a suitable dose for you.\"\"\"\n"
   ]
  },
  {
   "cell_type": "code",
   "execution_count": 10,
   "metadata": {},
   "outputs": [],
   "source": [
    "nlp = spacy.load('en')\n",
    "\n",
    "def text_summarizer(raw_docx):\n",
    "    raw_text = raw_docx\n",
    "    docx = nlp(raw_text)\n",
    "    stopwords = list(STOP_WORDS)\n",
    "    # Build Word Frequency\n",
    "# word.text is tokenization in spacy\n",
    "    word_frequencies = {}  \n",
    "    for word in docx:  \n",
    "        if word.text not in stopwords:\n",
    "            if word.text not in word_frequencies.keys():\n",
    "                word_frequencies[word.text] = 1\n",
    "            else:\n",
    "                word_frequencies[word.text] += 1\n",
    "\n",
    "\n",
    "    maximum_frequncy = max(word_frequencies.values())\n",
    "\n",
    "    for word in word_frequencies.keys():  \n",
    "        word_frequencies[word] = (word_frequencies[word]/maximum_frequncy)\n",
    "    # Sentence Tokens\n",
    "    sentence_list = [ sentence for sentence in docx.sents ]\n",
    "\n",
    "    # Calculate Sentence Score and Ranking\n",
    "    sentence_scores = {}  \n",
    "    for sent in sentence_list:  \n",
    "        for word in sent:\n",
    "            if word.text.lower() in word_frequencies.keys():\n",
    "                if len(sent.text.split(' ')) < 30:\n",
    "                    if sent not in sentence_scores.keys():\n",
    "                        sentence_scores[sent] = word_frequencies[word.text.lower()]\n",
    "                    else:\n",
    "                        sentence_scores[sent] += word_frequencies[word.text.lower()]\n",
    "\n",
    "    # Find N Largest\n",
    "    summary_sentences = nlargest(4, sentence_scores, key=sentence_scores.get)\n",
    "    final_sentences = [ w.text for w in summary_sentences ]\n",
    "    summary = ' '.join(final_sentences)\n",
    "    print(\"Original Document\\n\")\n",
    "    print(raw_docx)\n",
    "    print(\"Total Length:\",len(raw_docx))\n",
    "    print('\\n\\nSummarized Document\\n')\n",
    "    print(summary)\n",
    "    print(\"Total Length:\",len(summary))"
   ]
  },
  {
   "cell_type": "code",
   "execution_count": 11,
   "metadata": {},
   "outputs": [
    {
     "name": "stdout",
     "output_type": "stream",
     "text": [
      "Original Document\n",
      "\n",
      "Acnesol Gel is an antibiotic that fights bacteria. It is used to treat acne, which appears as spots or pimples on your face, chest or back. This medicine works by attacking the bacteria that cause these pimples.Acnesol Gel is only meant for external use and should be used as advised by your doctor. You should normally wash and dry the affected area before applying a thin layer of the medicine. It should not be applied to broken or damaged skin. Avoid any contact with your eyes, nose, or mouth. Rinse it off with water if you accidentally get it in these areas. It may take several weeks for your symptoms to improve, but you should keep using this medicine regularly. Do not stop using it as soon as your acne starts to get better. Ask your doctor when you should stop treatment.Common side effects like minor itching, burning, or redness of the skin and oily skin may be seen in some people. These are usually temporary and resolve on their own. Consult your doctor if they bother you or do not go away.It is a safe medicine, but you should inform your doctor if you have any problems with your bowels (intestines). Also, inform the doctor if you have ever had bloody diarrhea caused by taking antibiotics or if you are using any other medicines to treat skin conditions. Consult your doctor about using this medicine if you are pregnant or breastfeeding.\n",
      "Total Length: 1361\n",
      "\n",
      "\n",
      "Summarized Document\n",
      "\n",
      "Common side effects like minor itching, burning, or redness of the skin and oily skin may be seen in some people. Also, inform the doctor if you have ever had bloody diarrhea caused by taking antibiotics or if you are using any other medicines to treat skin conditions. It is used to treat acne, which appears as spots or pimples on your face, chest or back. It is a safe medicine, but you should inform your doctor if you have any problems with your bowels (intestines).\n",
      "Total Length: 471\n"
     ]
    }
   ],
   "source": [
    "text_summarizer(document1)"
   ]
  },
  {
   "cell_type": "code",
   "execution_count": 12,
   "metadata": {},
   "outputs": [
    {
     "name": "stdout",
     "output_type": "stream",
     "text": [
      "Original Document\n",
      "\n",
      "Ambrodil Syrup is used for treating various respiratory tract disorders associated with excessive mucus. It works by thinning and loosens mucus in the nose, windpipe and lungs and make it easier to cough out.Ambrodil Syrup should be taken with food. For better results, it is suggested to take it at the same time every day.  The dose and how often you take it depends on what you are taking it for. Your doctor will decide how much you need to improve your symptoms.  It is advised not to use it for more than 14 days without doctor consultation.The most common side effects of this medicine include vomiting, nausea, and stomach upset. Talk to your doctor if you are worried about side effects or they would not go away. Generally, it is advised not to take alcohol while on treatment.Before taking this medicine, tell your doctor if you have liver or kidney disease or if you have stomach problems. Your doctor should also know about all other medicines you are taking as many of these may make this medicine less effective or change the way it works. You must take doctor's advice before using this medicine if you are pregnant or breastfeeding.\n",
      "Total Length: 1149\n",
      "\n",
      "\n",
      "Summarized Document\n",
      "\n",
      "Before taking this medicine, tell your doctor if you have liver or kidney disease or if you have stomach problems. The most common side effects of this medicine include vomiting, nausea, and stomach upset. Your doctor should also know about all other medicines you are taking as many of these may make this medicine less effective or change the way it works. It works by thinning and loosens mucus in the nose, windpipe and lungs and make it easier to cough out.\n",
      "Total Length: 462\n"
     ]
    }
   ],
   "source": [
    "text_summarizer(document2)"
   ]
  },
  {
   "cell_type": "code",
   "execution_count": 13,
   "metadata": {},
   "outputs": [
    {
     "name": "stdout",
     "output_type": "stream",
     "text": [
      "Original Document\n",
      "\n",
      "Azithral 500 Tablet is an antibiotic used to treat various types of bacterial infections of the respiratory tract, ear, nose, throat, lungs, skin, and eye in adults and children. It is also effective in typhoid fever and some sexually transmitted diseases like gonorrhea.Azithral 500 Tablet is a broad-spectrum type of antibiotic effective in killing many types of gram-positive bacteria, some types of gram-negative bacteria and other microorganisms. This medicine is taken orally, preferably either one hour before or 2 hours after a meal. It should be used regularly at evenly spaced time intervals as prescribed by your doctor. Do not skip any doses and finish the full course of treatment even if you feel better. Stopping the medicine too early may lead to the return or worsening of the infection.Commonly seen side effects seen with this medicine include vomiting, nausea, stomach pain, and diarrhea. These are usually temporary and subside with the completion of treatment. Consult your doctor if you find these side effects worry you or persist for a longer duration.Inform your doctor if you have any previous history of allergy or heart problems before taking this medicine. Pregnant or breastfeeding women should consult their doctor before using this medicine.\n",
      "Total Length: 1274\n",
      "\n",
      "\n",
      "Summarized Document\n",
      "\n",
      "Azithral 500 Tablet is an antibiotic used to treat various types of bacterial infections of the respiratory tract, ear, nose, throat, lungs, skin, and eye in adults and children. Commonly seen side effects seen with this medicine include vomiting, nausea, stomach pain, and diarrhea. Azithral 500 Tablet is a broad-spectrum type of antibiotic effective in killing many types of gram-positive bacteria, some types of gram-negative bacteria and other microorganisms. This medicine is taken orally, preferably either one hour before or 2 hours after a meal.\n",
      "Total Length: 554\n"
     ]
    }
   ],
   "source": [
    "text_summarizer(document3)"
   ]
  },
  {
   "cell_type": "code",
   "execution_count": 14,
   "metadata": {},
   "outputs": [
    {
     "name": "stdout",
     "output_type": "stream",
     "text": [
      "Original Document\n",
      "\n",
      "Alkasol Oral Solution is a medicine used in the treatment of gout and kidney stones. It stops the production of uric acid in the body and reduces the episodes of gout attack and prevent kidney stones.Alkasol Oral Solution can be taken with or without food. This will prevent you from getting an upset stomach. Take it regularly and do not stop taking the medicine even if you get better until that doctor tell you it is alright to stop.The most common side effect of this medicine is stomach pain. It may also cause diarrhea, excessive production of urine, tiredness, etc. If any of these side effects does not resolve with time or get worsen, you should let your doctor know. Your doctor may help with ways to reduce or prevent these symptoms by reducing the dose or prescribing an alternative medicine.To make sure the medicine is safe for you, before taking this medicine, let your doctor know all the other medicines you are taking. Also tell your doctor if you have any problems with your heart, kidneys, or liver. If you are pregnant or breastfeeding, consult your doctor first before taking this medicine.\n",
      "Total Length: 1112\n",
      "\n",
      "\n",
      "Summarized Document\n",
      "\n",
      "To make sure the medicine is safe for you, before taking this medicine, let your doctor know all the other medicines you are taking. It may also cause diarrhea, excessive production of urine, tiredness, etc. Also tell your doctor if you have any problems with your heart, kidneys, or liver. If you are pregnant or breastfeeding, consult your doctor first before taking this medicine.\n",
      "Total Length: 383\n"
     ]
    }
   ],
   "source": [
    "text_summarizer(document4)"
   ]
  },
  {
   "cell_type": "code",
   "execution_count": 15,
   "metadata": {},
   "outputs": [
    {
     "name": "stdout",
     "output_type": "stream",
     "text": [
      "Original Document\n",
      "\n",
      "Atarax 25mg Tablet is an antihistamine used to treat symptoms of skin allergy like itching, swelling, and rashes. It is also used to treat anxiety and helps to get relaxed before or after surgery.Atarax 25mg Tablet should be taken with or without food, but take it at the same time every day to get the most benefit.  It should be taken as your doctor's advice. The dose and how often you take it depends on what you are taking it for. Your doctor will decide how much you need to improve your symptoms.  You should take this medicine for as long as it is prescribed for you. In case, you have missed any doses than it is better to take the next dose as soon as you remember it. However, you should never take a double dose.The most common side effects of this medicine include sedation, nausea, vomiting, stomach upset and constipation.  If these bother you or appear serious, let your doctor know. There may be ways of reducing or preventing them. You must avoid driving or attention-seeking activity while on treatment.Before taking this medicine, let your doctor know if you have heart problems or have high blood pressure, have liver or kidney problems. Inform your doctor if you are pregnant, or breastfeeding. Your doctor should also know about all other medicines you are taking as many of these may make this medicine less effective or change the way it works. Generally, it is advised to avoid alcohol while on treatment.\n",
      "Total Length: 1431\n",
      "\n",
      "\n",
      "Summarized Document\n",
      "\n",
      "The most common side effects of this medicine include sedation, nausea, vomiting, stomach upset and constipation.   Before taking this medicine, let your doctor know if you have heart problems or have high blood pressure, have liver or kidney problems. mg Tablet is an antihistamine used to treat symptoms of skin allergy like itching, swelling, and rashes. If these bother you or appear serious, let your doctor know.\n",
      "Total Length: 418\n"
     ]
    }
   ],
   "source": [
    "text_summarizer(document5)"
   ]
  },
  {
   "cell_type": "code",
   "execution_count": 16,
   "metadata": {},
   "outputs": [
    {
     "name": "stdout",
     "output_type": "stream",
     "text": [
      "Original Document\n",
      "\n",
      "Altraday Capsule SR is a combination of two medicines. It is used to reduce pain and inflammation in conditions like rheumatoid arthritis, ankylosing spondylitis, and osteoarthritis. It may also be used to relieve muscle pain, back pain, toothache, or pain in the ear and throat.Altraday Capsule SR can be taken with or without food. The dose will depend on what you are taking it for and how well it helps your symptoms. You should take it as advised by your doctor. Do not take more or use it for a longer duration than recommended by the doctor.The most common side effects of this medicine include nausea, flatulence, indigestion, diarrhea, and constipation. If any of these side effects bother you or get worse, you should speak to your doctor. Your doctor may be able to suggest ways of preventing or reducing the side effects.Before taking it, you should let your doctor know if you have a history of ulcer or bleeding in your stomach, high blood pressure, or have any trouble with your heart, kidneys, or liver. Let your doctor also know about all the other medicines you are taking because they may affect, or be affected by, this medicine.Pregnant or breastfeeding women should consult their doctor before starting treatment. You should also avoid drinking alcohol while you are taking this medicine, as alcohol can cause excessive drowsiness.\n",
      "Total Length: 1353\n",
      "\n",
      "\n",
      "Summarized Document\n",
      "\n",
      "The most common side effects of this medicine include nausea, flatulence, indigestion, diarrhea, and constipation. It may also be used to relieve muscle pain, back pain, toothache, or pain in the ear and throat. Let your doctor also know about all the other medicines you are taking because they may affect, or be affected by, this medicine. It is used to reduce pain and inflammation in conditions like rheumatoid arthritis, ankylosing spondylitis, and osteoarthritis.\n",
      "Total Length: 469\n"
     ]
    }
   ],
   "source": [
    "text_summarizer(document6)"
   ]
  },
  {
   "cell_type": "code",
   "execution_count": null,
   "metadata": {},
   "outputs": [],
   "source": []
  }
 ],
 "metadata": {
  "kernelspec": {
   "display_name": "Python 3",
   "language": "python",
   "name": "python3"
  },
  "language_info": {
   "codemirror_mode": {
    "name": "ipython",
    "version": 3
   },
   "file_extension": ".py",
   "mimetype": "text/x-python",
   "name": "python",
   "nbconvert_exporter": "python",
   "pygments_lexer": "ipython3",
   "version": "3.7.4"
  }
 },
 "nbformat": 4,
 "nbformat_minor": 2
}
